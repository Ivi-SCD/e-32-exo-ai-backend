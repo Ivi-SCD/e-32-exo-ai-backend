{
 "cells": [
  {
   "cell_type": "markdown",
   "id": "ff12f7f8-1fc2-4bae-946e-c46396dde48f",
   "metadata": {},
   "source": [
    "# Notebook Modeling Explonate Classifier\n",
    "\n",
    "> Build baseline & enhaneced classification models for exoplanet validation likelihood"
   ]
  },
  {
   "cell_type": "code",
   "execution_count": 1,
   "id": "b9d9f9cc-82a5-4097-a462-c2385174ac20",
   "metadata": {},
   "outputs": [],
   "source": [
    "import pandas as pd\n",
    "import numpy as np\n",
    "import seaborn as sns\n",
    "import matplotlib.pyplot as plt\n",
    "from sklearn.model_selection import train_test_split, StratifiedKFold\n",
    "from sklearn.metrics import (roc_auc_score, average_precision_score, balanced_accuracy_score,\n",
    "                             precision_recall_curve, confusion_matrix, brier_score_loss,\n",
    "                             classification_report)\n",
    "from sklearn.preprocessing import StandardScaler\n",
    "from sklearn.ensemble import HistGradientBoostingClassifier, RandomForestClassifier\n",
    "from sklearn.inspection import permutation_importance\n",
    "from sklearn.calibration import calibration_curve\n",
    "from sklearn.impute import SimpleImputer\n",
    "import joblib, json, math\n",
    "\n",
    "sns.set_theme(context = 'notebook', style = 'dark')"
   ]
  },
  {
   "cell_type": "code",
   "execution_count": 2,
   "id": "29298777-8cb2-4f0c-9467-f6283d9306b0",
   "metadata": {},
   "outputs": [
    {
     "name": "stderr",
     "output_type": "stream",
     "text": [
      "/tmp/ipykernel_5119/1690564524.py:3: DtypeWarning: Columns (1) have mixed types. Specify dtype option on import or set low_memory=False.\n",
      "  df = pd.read_csv('data/processed/exoplanets_unified_derived_imputed.csv')\n"
     ]
    },
    {
     "data": {
      "text/html": [
       "<div>\n",
       "<style scoped>\n",
       "    .dataframe tbody tr th:only-of-type {\n",
       "        vertical-align: middle;\n",
       "    }\n",
       "\n",
       "    .dataframe tbody tr th {\n",
       "        vertical-align: top;\n",
       "    }\n",
       "\n",
       "    .dataframe thead th {\n",
       "        text-align: right;\n",
       "    }\n",
       "</style>\n",
       "<table border=\"1\" class=\"dataframe\">\n",
       "  <thead>\n",
       "    <tr style=\"text-align: right;\">\n",
       "      <th></th>\n",
       "      <th>host_name</th>\n",
       "      <th>planet_name</th>\n",
       "      <th>disposition</th>\n",
       "      <th>orbital_period_days</th>\n",
       "      <th>semi_major_axis_au</th>\n",
       "      <th>eccentricity</th>\n",
       "      <th>inclination_deg</th>\n",
       "      <th>planet_radius_re</th>\n",
       "      <th>planet_radius_rj</th>\n",
       "      <th>planet_mass_me</th>\n",
       "      <th>...</th>\n",
       "      <th>stellar_mass_msun_imp</th>\n",
       "      <th>stellar_mass_msun_was_imputed</th>\n",
       "      <th>stellar_radius_rsun_imp</th>\n",
       "      <th>stellar_radius_rsun_was_imputed</th>\n",
       "      <th>stellar_teff_k_imp</th>\n",
       "      <th>stellar_teff_k_was_imputed</th>\n",
       "      <th>planet_radius_re_imp</th>\n",
       "      <th>planet_radius_re_was_imputed</th>\n",
       "      <th>transit_depth_ppm_imp</th>\n",
       "      <th>transit_depth_ppm_was_imputed</th>\n",
       "    </tr>\n",
       "  </thead>\n",
       "  <tbody>\n",
       "    <tr>\n",
       "      <th>0</th>\n",
       "      <td>K00752.01</td>\n",
       "      <td>NaN</td>\n",
       "      <td>CONFIRMED</td>\n",
       "      <td>9.488036</td>\n",
       "      <td>0.0853</td>\n",
       "      <td>0.0</td>\n",
       "      <td>89.66</td>\n",
       "      <td>2.26</td>\n",
       "      <td>NaN</td>\n",
       "      <td>NaN</td>\n",
       "      <td>...</td>\n",
       "      <td>0.919</td>\n",
       "      <td>False</td>\n",
       "      <td>0.927</td>\n",
       "      <td>False</td>\n",
       "      <td>5455.0</td>\n",
       "      <td>False</td>\n",
       "      <td>2.26</td>\n",
       "      <td>False</td>\n",
       "      <td>615.8</td>\n",
       "      <td>False</td>\n",
       "    </tr>\n",
       "    <tr>\n",
       "      <th>1</th>\n",
       "      <td>K00752.02</td>\n",
       "      <td>NaN</td>\n",
       "      <td>CONFIRMED</td>\n",
       "      <td>54.418383</td>\n",
       "      <td>0.2734</td>\n",
       "      <td>0.0</td>\n",
       "      <td>89.57</td>\n",
       "      <td>2.83</td>\n",
       "      <td>NaN</td>\n",
       "      <td>NaN</td>\n",
       "      <td>...</td>\n",
       "      <td>0.919</td>\n",
       "      <td>False</td>\n",
       "      <td>0.927</td>\n",
       "      <td>False</td>\n",
       "      <td>5455.0</td>\n",
       "      <td>False</td>\n",
       "      <td>2.83</td>\n",
       "      <td>False</td>\n",
       "      <td>874.8</td>\n",
       "      <td>False</td>\n",
       "    </tr>\n",
       "  </tbody>\n",
       "</table>\n",
       "<p>2 rows × 67 columns</p>\n",
       "</div>"
      ],
      "text/plain": [
       "   host_name planet_name disposition  orbital_period_days  semi_major_axis_au  \\\n",
       "0  K00752.01         NaN   CONFIRMED             9.488036              0.0853   \n",
       "1  K00752.02         NaN   CONFIRMED            54.418383              0.2734   \n",
       "\n",
       "   eccentricity  inclination_deg  planet_radius_re  planet_radius_rj  \\\n",
       "0           0.0            89.66              2.26               NaN   \n",
       "1           0.0            89.57              2.83               NaN   \n",
       "\n",
       "   planet_mass_me  ...  stellar_mass_msun_imp  stellar_mass_msun_was_imputed  \\\n",
       "0             NaN  ...                  0.919                          False   \n",
       "1             NaN  ...                  0.919                          False   \n",
       "\n",
       "   stellar_radius_rsun_imp  stellar_radius_rsun_was_imputed  \\\n",
       "0                    0.927                            False   \n",
       "1                    0.927                            False   \n",
       "\n",
       "   stellar_teff_k_imp  stellar_teff_k_was_imputed  planet_radius_re_imp  \\\n",
       "0              5455.0                       False                  2.26   \n",
       "1              5455.0                       False                  2.83   \n",
       "\n",
       "   planet_radius_re_was_imputed  transit_depth_ppm_imp  \\\n",
       "0                         False                  615.8   \n",
       "1                         False                  874.8   \n",
       "\n",
       "   transit_depth_ppm_was_imputed  \n",
       "0                          False  \n",
       "1                          False  \n",
       "\n",
       "[2 rows x 67 columns]"
      ]
     },
     "execution_count": 2,
     "metadata": {},
     "output_type": "execute_result"
    }
   ],
   "source": [
    "# load datasets :)\n",
    "\n",
    "df = pd.read_csv('data/processed/exoplanets_unified_derived_imputed.csv')\n",
    "df.head(2)"
   ]
  },
  {
   "cell_type": "code",
   "execution_count": 3,
   "id": "5cb2d108-e65c-4a3d-b814-37c29a7e7c96",
   "metadata": {},
   "outputs": [
    {
     "data": {
      "text/plain": [
       "disposition\n",
       "FALSE POSITIVE    5132\n",
       "CONFIRMED         5054\n",
       "CANDIDATE         3348\n",
       "REFUTED             22\n",
       "Name: count, dtype: int64"
      ]
     },
     "execution_count": 3,
     "metadata": {},
     "output_type": "execute_result"
    }
   ],
   "source": [
    "df['disposition'].value_counts()"
   ]
  },
  {
   "cell_type": "code",
   "execution_count": 4,
   "id": "86ad4a27-aad8-40d5-82f2-f5d56ade833e",
   "metadata": {},
   "outputs": [],
   "source": [
    "# Target Encoding\n",
    "POSITIVE_SET = {\n",
    "    'CONFIRMED', 'CANDIDATE'\n",
    "}"
   ]
  },
  {
   "cell_type": "code",
   "execution_count": 5,
   "id": "58193ccc-dc36-4190-b910-b6fa39c04790",
   "metadata": {},
   "outputs": [
    {
     "name": "stdout",
     "output_type": "stream",
     "text": [
      "Positive Rate: 0.396\n"
     ]
    },
    {
     "data": {
      "text/plain": [
       "disposition_upper\n",
       "0    12822\n",
       "1     8402\n",
       "Name: count, dtype: int64"
      ]
     },
     "execution_count": 5,
     "metadata": {},
     "output_type": "execute_result"
    }
   ],
   "source": [
    "df['disposition_upper'] = df.get('disposition', 'UNKNOWN').fillna('UNKNOWN').str.upper()\n",
    "\n",
    "y = df['disposition_upper'].apply(lambda v: 1 if v in POSITIVE_SET else 0)\n",
    "print(f'Positive Rate: {y.mean().round(3)}')\n",
    "y.value_counts()"
   ]
  },
  {
   "cell_type": "code",
   "execution_count": 6,
   "id": "a5acf670-2c87-4209-b6c8-367d35b678da",
   "metadata": {},
   "outputs": [],
   "source": [
    "# Feature selection heuristic\n",
    "drop_prefixes = ['orbital_period_err', 'planet_radius_re_err', 'transit_depth_err',\n",
    "                 'stellar_teff_err', 'stellar_radius_err', 'stellar_mass_err']\n",
    "\n",
    "raw_duplicate = {'planet_eq_temp_k', 'planet_insolation_earth'}\n",
    "\n",
    "id_like = {'host_name', 'planet_name', 'source_catalog', 'disposition', 'disposition_upper'}"
   ]
  },
  {
   "cell_type": "code",
   "execution_count": 7,
   "id": "c93094d0-9f9c-4783-a649-22371d4f1456",
   "metadata": {},
   "outputs": [
    {
     "data": {
      "text/plain": [
       "(61,\n",
       " ['orbital_period_days',\n",
       "  'semi_major_axis_au',\n",
       "  'eccentricity',\n",
       "  'inclination_deg',\n",
       "  'planet_radius_re',\n",
       "  'planet_radius_rj',\n",
       "  'planet_mass_me',\n",
       "  'planet_mass_mj',\n",
       "  'planet_density_gcm3',\n",
       "  'transit_depth_ppm',\n",
       "  'tansit_duration_hrs',\n",
       "  'impact_parameter',\n",
       "  'a_over_rstar',\n",
       "  'radius_ratio',\n",
       "  'stellar_teff_k'])"
      ]
     },
     "execution_count": 7,
     "metadata": {},
     "output_type": "execute_result"
    }
   ],
   "source": [
    "features = []\n",
    "\n",
    "for c in df.columns:\n",
    "    if c in id_like:\n",
    "        continue\n",
    "\n",
    "    if c in raw_duplicate:\n",
    "        continue\n",
    "\n",
    "    if any(c.startswith(p) for p in drop_prefixes):\n",
    "        continue\n",
    "\n",
    "    features.append(c)\n",
    "\n",
    "len(features), features[:15]"
   ]
  },
  {
   "cell_type": "code",
   "execution_count": 8,
   "id": "bfefd2b2-b145-42e8-b4e1-0cc054e9d99f",
   "metadata": {},
   "outputs": [
    {
     "name": "stdout",
     "output_type": "stream",
     "text": [
      "Numeric 60 \tCategorical: 1\n"
     ]
    },
    {
     "data": {
      "text/plain": [
       "(['stellar_teff_bin'],\n",
       " ['orbital_period_days',\n",
       "  'semi_major_axis_au',\n",
       "  'eccentricity',\n",
       "  'inclination_deg',\n",
       "  'planet_radius_re',\n",
       "  'planet_radius_rj',\n",
       "  'planet_mass_me',\n",
       "  'planet_mass_mj',\n",
       "  'planet_density_gcm3',\n",
       "  'transit_depth_ppm',\n",
       "  'tansit_duration_hrs',\n",
       "  'impact_parameter',\n",
       "  'a_over_rstar',\n",
       "  'radius_ratio',\n",
       "  'stellar_teff_k'])"
      ]
     },
     "execution_count": 8,
     "metadata": {},
     "output_type": "execute_result"
    }
   ],
   "source": [
    "# Separate by numeric vs categorical\n",
    "\n",
    "numeric_cols = [c for c in features if pd.api.types.is_numeric_dtype(df[c])]\n",
    "categorical_cols = [c for c in features if c not in numeric_cols]\n",
    "\n",
    "print(f'Numeric {len(numeric_cols)} \\tCategorical: {len(categorical_cols)}')\n",
    "categorical_cols[:10], numeric_cols[:15]"
   ]
  },
  {
   "cell_type": "code",
   "execution_count": 9,
   "id": "b5fdd0f0-0aa9-4dc7-8700-17ccb9cad2e1",
   "metadata": {},
   "outputs": [
    {
     "data": {
      "text/plain": [
       "(21224, 66)"
      ]
     },
     "execution_count": 9,
     "metadata": {},
     "output_type": "execute_result"
    }
   ],
   "source": [
    "# one hot encode categorical e.g stellar_teff_bin\n",
    "\n",
    "low_card_threshold = 12\n",
    "encoded_parts = []\n",
    "X_base = pd.DataFrame(index = df.index)\n",
    "\n",
    "for c in categorical_cols:\n",
    "    card = df[c].nunique(dropna = True)\n",
    "    if card <= low_card_threshold:\n",
    "        dummies = pd.get_dummies(df[c], prefix = c, dummy_na = True)\n",
    "        encoded_parts.append(dummies)\n",
    "    else:\n",
    "        # skip high-card for simplicity, we're working with a simple categorical feat\n",
    "        pass\n",
    "\n",
    "if encoded_parts:\n",
    "    X_cat = pd.concat(encoded_parts, axis = 1)\n",
    "else:\n",
    "    X_cat = pd.DataFrame(index = df.index)\n",
    "\n",
    "X_num = df[numeric_cols].copy()\n",
    "X = pd.concat([X_num, X_cat], axis = 1)\n",
    "X.shape\n"
   ]
  },
  {
   "cell_type": "code",
   "execution_count": 10,
   "id": "3dcbe068-5af0-4ab1-9163-a19565fb65c2",
   "metadata": {},
   "outputs": [],
   "source": [
    "# Remove colummns with > 95% constant value\n",
    "\n",
    "const_cols = [c for c in X.columns if X[c].nunique(dropna=True) <= 1]\n",
    "X = X.drop(columns = const_cols)"
   ]
  },
  {
   "cell_type": "code",
   "execution_count": 11,
   "id": "62b43258-3308-4954-b3e4-2ab57ba7dc5c",
   "metadata": {},
   "outputs": [
    {
     "data": {
      "text/plain": [
       "((16979, 65), (4245, 65))"
      ]
     },
     "execution_count": 11,
     "metadata": {},
     "output_type": "execute_result"
    }
   ],
   "source": [
    "train_idx, test_idx = train_test_split(X.index, test_size = 0.20, stratify = y, random_state = 32)\n",
    "X_train, X_test = X.loc[train_idx], X.loc[test_idx]\n",
    "y_train, y_test = y.loc[train_idx], y.loc[test_idx]\n",
    "X_train.shape, X_test.shape"
   ]
  },
  {
   "cell_type": "code",
   "execution_count": 12,
   "id": "7551813d-af6f-43b7-882c-7e9f68577434",
   "metadata": {},
   "outputs": [
    {
     "data": {
      "text/plain": [
       "(np.int64(0), np.int64(0))"
      ]
     },
     "execution_count": 12,
     "metadata": {},
     "output_type": "execute_result"
    }
   ],
   "source": [
    "# simple imputer for anyu residual NaN\n",
    "imp = SimpleImputer(strategy = 'median')\n",
    "X_train_imp = pd.DataFrame(imp.fit_transform(X_train), columns = X_train.columns, index = X_train.index)\n",
    "X_test_imp = pd.DataFrame(imp.transform(X_test), columns = X_test.columns, index = X_test.index)\n",
    "X_train_imp.isna().sum().sum(), X_test_imp.isna().sum().sum()"
   ]
  },
  {
   "cell_type": "code",
   "execution_count": 13,
   "id": "fed93556-45dc-4c67-bdc9-1ce381b789fa",
   "metadata": {},
   "outputs": [
    {
     "data": {
      "text/plain": [
       "{'roc_auc': 0.9811148240972802,\n",
       " 'pr_auc': 0.9702696466012951,\n",
       " 'balanced_accuracy': 0.9286950013923698,\n",
       " 'brier': 0.05278931235640112}"
      ]
     },
     "execution_count": 13,
     "metadata": {},
     "output_type": "execute_result"
    }
   ],
   "source": [
    "# Baseline Model (HistGradiendBoostingClassifier)\n",
    "\n",
    "hgb = HistGradientBoostingClassifier(random_state = 32)\n",
    "hgb.fit(X_train_imp, y_train)\n",
    "prob_test = hgb.predict_proba(X_test_imp)[:,1]\n",
    "pred_default = (prob_test >= 0.5).astype(int)\n",
    "\n",
    "metrics_baseline = {\n",
    "    'roc_auc': roc_auc_score(y_test, prob_test),\n",
    "    'pr_auc': average_precision_score(y_test, prob_test),\n",
    "    'balanced_accuracy': balanced_accuracy_score(y_test, pred_default),\n",
    "    'brier': brier_score_loss(y_test, prob_test)\n",
    "}\n",
    "\n",
    "metrics_baseline"
   ]
  },
  {
   "cell_type": "code",
   "execution_count": 14,
   "id": "9572f1ba-89b0-40d1-b571-328a994f4280",
   "metadata": {},
   "outputs": [
    {
     "data": {
      "text/html": [
       "<div>\n",
       "<style scoped>\n",
       "    .dataframe tbody tr th:only-of-type {\n",
       "        vertical-align: middle;\n",
       "    }\n",
       "\n",
       "    .dataframe tbody tr th {\n",
       "        vertical-align: top;\n",
       "    }\n",
       "\n",
       "    .dataframe thead th {\n",
       "        text-align: right;\n",
       "    }\n",
       "</style>\n",
       "<table border=\"1\" class=\"dataframe\">\n",
       "  <thead>\n",
       "    <tr style=\"text-align: right;\">\n",
       "      <th></th>\n",
       "      <th>Pred 0</th>\n",
       "      <th>Pred 1</th>\n",
       "    </tr>\n",
       "  </thead>\n",
       "  <tbody>\n",
       "    <tr>\n",
       "      <th>True 0</th>\n",
       "      <td>2387</td>\n",
       "      <td>178</td>\n",
       "    </tr>\n",
       "    <tr>\n",
       "      <th>True 1</th>\n",
       "      <td>123</td>\n",
       "      <td>1557</td>\n",
       "    </tr>\n",
       "  </tbody>\n",
       "</table>\n",
       "</div>"
      ],
      "text/plain": [
       "        Pred 0  Pred 1\n",
       "True 0    2387     178\n",
       "True 1     123    1557"
      ]
     },
     "execution_count": 14,
     "metadata": {},
     "output_type": "execute_result"
    }
   ],
   "source": [
    "# Confusion matrix (default threshold)\n",
    "\n",
    "cm = confusion_matrix(y_test, pred_default)\n",
    "cm_df = pd.DataFrame(cm, index = ['True 0', 'True 1'], columns = ['Pred 0', 'Pred 1'])\n",
    "cm_df"
   ]
  },
  {
   "cell_type": "code",
   "execution_count": 15,
   "id": "8f7f86e5-42dd-4140-834d-cc25b33ccde7",
   "metadata": {},
   "outputs": [
    {
     "data": {
      "text/html": [
       "<div>\n",
       "<style scoped>\n",
       "    .dataframe tbody tr th:only-of-type {\n",
       "        vertical-align: middle;\n",
       "    }\n",
       "\n",
       "    .dataframe tbody tr th {\n",
       "        vertical-align: top;\n",
       "    }\n",
       "\n",
       "    .dataframe thead th {\n",
       "        text-align: right;\n",
       "    }\n",
       "</style>\n",
       "<table border=\"1\" class=\"dataframe\">\n",
       "  <thead>\n",
       "    <tr style=\"text-align: right;\">\n",
       "      <th></th>\n",
       "      <th>threshold</th>\n",
       "      <th>precision</th>\n",
       "      <th>recall</th>\n",
       "    </tr>\n",
       "  </thead>\n",
       "  <tbody>\n",
       "    <tr>\n",
       "      <th>0</th>\n",
       "      <td>0.000124</td>\n",
       "      <td>0.395760</td>\n",
       "      <td>1.0</td>\n",
       "    </tr>\n",
       "    <tr>\n",
       "      <th>1</th>\n",
       "      <td>0.000140</td>\n",
       "      <td>0.395853</td>\n",
       "      <td>1.0</td>\n",
       "    </tr>\n",
       "    <tr>\n",
       "      <th>2</th>\n",
       "      <td>0.000141</td>\n",
       "      <td>0.395946</td>\n",
       "      <td>1.0</td>\n",
       "    </tr>\n",
       "    <tr>\n",
       "      <th>3</th>\n",
       "      <td>0.000148</td>\n",
       "      <td>0.396040</td>\n",
       "      <td>1.0</td>\n",
       "    </tr>\n",
       "    <tr>\n",
       "      <th>4</th>\n",
       "      <td>0.000152</td>\n",
       "      <td>0.396133</td>\n",
       "      <td>1.0</td>\n",
       "    </tr>\n",
       "  </tbody>\n",
       "</table>\n",
       "</div>"
      ],
      "text/plain": [
       "   threshold  precision  recall\n",
       "0   0.000124   0.395760     1.0\n",
       "1   0.000140   0.395853     1.0\n",
       "2   0.000141   0.395946     1.0\n",
       "3   0.000148   0.396040     1.0\n",
       "4   0.000152   0.396133     1.0"
      ]
     },
     "execution_count": 15,
     "metadata": {},
     "output_type": "execute_result"
    }
   ],
   "source": [
    "prec, rec, thr = precision_recall_curve(y_test, prob_test)\n",
    "pr_df = pd.DataFrame({\n",
    "    'threshold': np.append(thr, np.nan),\n",
    "    'precision': prec,\n",
    "    'recall': rec\n",
    "})\n",
    "\n",
    "pr_df.head()"
   ]
  },
  {
   "cell_type": "code",
   "execution_count": 16,
   "id": "816ef914-7932-4da5-b3f3-9e4dc8071da6",
   "metadata": {},
   "outputs": [
    {
     "data": {
      "image/png": "[encoded data removed]",
      "text/plain": [
       "<Figure size 640x480 with 1 Axes>"
      ]
     },
     "metadata": {},
     "output_type": "display_data"
    }
   ],
   "source": [
    "import matplotlib.pyplot as plt\n",
    "\n",
    "plt.plot(rec, prec, marker='.')\n",
    "plt.xlabel(\"Recall\")\n",
    "plt.ylabel(\"Precision\")\n",
    "plt.title(\"Precision-Recall Curve\")\n",
    "plt.show()\n"
   ]
  },
  {
   "cell_type": "code",
   "execution_count": 33,
   "id": "f57fd6a1-4671-4809-837c-fb3b9aafd1e5",
   "metadata": {},
   "outputs": [
    {
     "data": {
      "text/plain": [
       "({'strategy': 'max_f1',\n",
       "  'threshold': np.float64(1.0),\n",
       "  'precision': 1.0,\n",
       "  'recall': 0.0,\n",
       "  'f1': 2.0},\n",
       " {'threshold': np.float64(0.3504931180534278),\n",
       "  'precision': 0.8501059322033898,\n",
       "  'recall': 0.9553571428571429,\n",
       "  'f1': 0.9485559583109023,\n",
       "  'strategy': 'max_recall_precision>=0.85'})"
      ]
     },
     "execution_count": 33,
     "metadata": {},
     "output_type": "execute_result"
    }
   ],
   "source": [
    "# Threshold optimization: maximize F1 and also get best recall under min precision constraint\n",
    "\n",
    "def optimize_threshold(precision, recall, thresholds, min_precision = 0.8):\n",
    "    thresholds_adj = np.append(thresholds, 1.0) # align lengths\n",
    "    f1 = (2 * precision ** recall) / np.clip(precision + recall, 1e-9, None)\n",
    "    best_f1_idx = np.nanargmax(f1)\n",
    "    best_f1 = {\n",
    "        \"strategy\": \"max_f1\",\n",
    "        \"threshold\": thresholds_adj[best_f1_idx],\n",
    "        \"precision\": float(precision[best_f1_idx]),\n",
    "        \"recall\": float(recall[best_f1_idx]),\n",
    "        \"f1\": float(f1[best_f1_idx])\n",
    "    }\n",
    "\n",
    "    feasible = [\n",
    "        {\n",
    "            \"threshold\": thresholds_adj[i],\n",
    "            \"precision\": float(precision[i]),\n",
    "            \"recall\": float(recall[i]),\n",
    "            \"f1\": float(f1[i])\n",
    "        }\n",
    "        for i in range(len(precision)) if precision[i] >= min_precision\n",
    "    ]\n",
    "\n",
    "    best_recall = None\n",
    "    if feasible:\n",
    "        best_recall = max(feasible, key = lambda d: d[\"recall\"])\n",
    "        best_recall[\"strategy\"] = f\"max_recall_precision>={min_precision}\"\n",
    "\n",
    "    return best_f1, best_recall, feasible\n",
    "\n",
    "best_f1, best_recall, feasible_list = optimize_threshold(prec, rec, thr, min_precision = 0.85)\n",
    "best_f1, best_recall"
   ]
  },
  {
   "cell_type": "code",
   "execution_count": 34,
   "id": "79dbbc09-c1c7-4acd-acfe-ab2205c26ef4",
   "metadata": {},
   "outputs": [
    {
     "data": {
      "text/plain": [
       "array([[2282,  283],\n",
       "       [  75, 1605]])"
      ]
     },
     "execution_count": 34,
     "metadata": {},
     "output_type": "execute_result"
    }
   ],
   "source": [
    "# Apply optimized threshold (fallback to F1 if recall strategy not available)\n",
    "\n",
    "chosen = best_recall if best_recall else best_f1\n",
    "thr_opt = chosen['threshold']\n",
    "y_pred_opt = (prob_test >= thr_opt).astype(int)\n",
    "\n",
    "opt_metrics = {\n",
    "    \"precision_opt\": average_precision_score(y_test, prob_test >= thr_opt),\n",
    "    \"balanced_accuracy_opt\": balanced_accuracy_score(y_test, y_pred_opt),\n",
    "    \"threshold\": thr_opt\n",
    "}b\n",
    "\n",
    "conf_opt = confusion_matrix(y_test, y_pred_opt)\n",
    "conf_opt"
   ]
  },
  {
   "cell_type": "code",
   "execution_count": 35,
   "id": "1e08610c-e45b-44ef-8824-2d5d4b8323d2",
   "metadata": {},
   "outputs": [
    {
     "data": {
      "image/png": "[encoded data removed]",
      "text/plain": [
       "<Figure size 500x500 with 1 Axes>"
      ]
     },
     "metadata": {},
     "output_type": "display_data"
    }
   ],
   "source": [
    "# Calibration curve\n",
    "\n",
    "frac_pos, mean_pred = calibration_curve(y_test, prob_test, n_bins = 15, strategy = \"quantile\")\n",
    "plt.figure(figsize = (5, 5))\n",
    "plt.plot(mean_pred, frac_pos, marker = 'o', label = 'Model')\n",
    "plt.plot([0, 1], [0, 1], '--', color = 'gray')\n",
    "plt.xlabel('Mean Predicted Prob')\n",
    "plt.ylabel('Fraction Positive')\n",
    "plt.title('Calibration')\n",
    "plt.legend()\n",
    "plt.show()"
   ]
  },
  {
   "cell_type": "code",
   "execution_count": 36,
   "id": "fcaf1d93-1af3-4bf9-baed-65136f1608e2",
   "metadata": {},
   "outputs": [
    {
     "data": {
      "text/html": [
       "<div>\n",
       "<style scoped>\n",
       "    .dataframe tbody tr th:only-of-type {\n",
       "        vertical-align: middle;\n",
       "    }\n",
       "\n",
       "    .dataframe tbody tr th {\n",
       "        vertical-align: top;\n",
       "    }\n",
       "\n",
       "    .dataframe thead th {\n",
       "        text-align: right;\n",
       "    }\n",
       "</style>\n",
       "<table border=\"1\" class=\"dataframe\">\n",
       "  <thead>\n",
       "    <tr style=\"text-align: right;\">\n",
       "      <th></th>\n",
       "      <th>feature</th>\n",
       "      <th>importance_mean</th>\n",
       "      <th>importance_std</th>\n",
       "    </tr>\n",
       "  </thead>\n",
       "  <tbody>\n",
       "    <tr>\n",
       "      <th>9</th>\n",
       "      <td>transit_depth_ppm</td>\n",
       "      <td>0.089941</td>\n",
       "      <td>0.005713</td>\n",
       "    </tr>\n",
       "    <tr>\n",
       "      <th>51</th>\n",
       "      <td>stellar_mass_msun_was_imputed</td>\n",
       "      <td>0.067161</td>\n",
       "      <td>0.004240</td>\n",
       "    </tr>\n",
       "    <tr>\n",
       "      <th>24</th>\n",
       "      <td>dec_deg</td>\n",
       "      <td>0.037574</td>\n",
       "      <td>0.003728</td>\n",
       "    </tr>\n",
       "    <tr>\n",
       "      <th>58</th>\n",
       "      <td>transit_depth_ppm_imp</td>\n",
       "      <td>0.027986</td>\n",
       "      <td>0.001515</td>\n",
       "    </tr>\n",
       "    <tr>\n",
       "      <th>12</th>\n",
       "      <td>a_over_rstar</td>\n",
       "      <td>0.015807</td>\n",
       "      <td>0.001774</td>\n",
       "    </tr>\n",
       "    <tr>\n",
       "      <th>29</th>\n",
       "      <td>snr_model</td>\n",
       "      <td>0.011779</td>\n",
       "      <td>0.001612</td>\n",
       "    </tr>\n",
       "    <tr>\n",
       "      <th>30</th>\n",
       "      <td>snr_single_event</td>\n",
       "      <td>0.010978</td>\n",
       "      <td>0.002551</td>\n",
       "    </tr>\n",
       "    <tr>\n",
       "      <th>0</th>\n",
       "      <td>orbital_period_days</td>\n",
       "      <td>0.010695</td>\n",
       "      <td>0.001834</td>\n",
       "    </tr>\n",
       "    <tr>\n",
       "      <th>23</th>\n",
       "      <td>ra_deg</td>\n",
       "      <td>0.007562</td>\n",
       "      <td>0.000833</td>\n",
       "    </tr>\n",
       "    <tr>\n",
       "      <th>10</th>\n",
       "      <td>tansit_duration_hrs</td>\n",
       "      <td>0.007185</td>\n",
       "      <td>0.001524</td>\n",
       "    </tr>\n",
       "    <tr>\n",
       "      <th>16</th>\n",
       "      <td>stellar_metallicity_dex</td>\n",
       "      <td>0.006148</td>\n",
       "      <td>0.001817</td>\n",
       "    </tr>\n",
       "    <tr>\n",
       "      <th>49</th>\n",
       "      <td>planet_insolation_earth_combined_was_imputed</td>\n",
       "      <td>0.005842</td>\n",
       "      <td>0.000419</td>\n",
       "    </tr>\n",
       "    <tr>\n",
       "      <th>11</th>\n",
       "      <td>impact_parameter</td>\n",
       "      <td>0.004335</td>\n",
       "      <td>0.001155</td>\n",
       "    </tr>\n",
       "    <tr>\n",
       "      <th>39</th>\n",
       "      <td>planet_eq_temp_k_combined</td>\n",
       "      <td>0.004287</td>\n",
       "      <td>0.001263</td>\n",
       "    </tr>\n",
       "    <tr>\n",
       "      <th>31</th>\n",
       "      <td>snr_multi_event</td>\n",
       "      <td>0.004264</td>\n",
       "      <td>0.000636</td>\n",
       "    </tr>\n",
       "    <tr>\n",
       "      <th>56</th>\n",
       "      <td>planet_radius_re_imp</td>\n",
       "      <td>0.003392</td>\n",
       "      <td>0.000824</td>\n",
       "    </tr>\n",
       "    <tr>\n",
       "      <th>26</th>\n",
       "      <td>pm_dec_masyr</td>\n",
       "      <td>0.003274</td>\n",
       "      <td>0.001056</td>\n",
       "    </tr>\n",
       "    <tr>\n",
       "      <th>14</th>\n",
       "      <td>stellar_teff_k</td>\n",
       "      <td>0.002945</td>\n",
       "      <td>0.000797</td>\n",
       "    </tr>\n",
       "    <tr>\n",
       "      <th>19</th>\n",
       "      <td>stellar_density_cgs</td>\n",
       "      <td>0.002473</td>\n",
       "      <td>0.001006</td>\n",
       "    </tr>\n",
       "    <tr>\n",
       "      <th>45</th>\n",
       "      <td>depth_ratio_residual</td>\n",
       "      <td>0.002426</td>\n",
       "      <td>0.001154</td>\n",
       "    </tr>\n",
       "  </tbody>\n",
       "</table>\n",
       "</div>"
      ],
      "text/plain": [
       "                                         feature  importance_mean  \\\n",
       "9                              transit_depth_ppm         0.089941   \n",
       "51                 stellar_mass_msun_was_imputed         0.067161   \n",
       "24                                       dec_deg         0.037574   \n",
       "58                         transit_depth_ppm_imp         0.027986   \n",
       "12                                  a_over_rstar         0.015807   \n",
       "29                                     snr_model         0.011779   \n",
       "30                              snr_single_event         0.010978   \n",
       "0                            orbital_period_days         0.010695   \n",
       "23                                        ra_deg         0.007562   \n",
       "10                           tansit_duration_hrs         0.007185   \n",
       "16                       stellar_metallicity_dex         0.006148   \n",
       "49  planet_insolation_earth_combined_was_imputed         0.005842   \n",
       "11                              impact_parameter         0.004335   \n",
       "39                     planet_eq_temp_k_combined         0.004287   \n",
       "31                               snr_multi_event         0.004264   \n",
       "56                          planet_radius_re_imp         0.003392   \n",
       "26                                  pm_dec_masyr         0.003274   \n",
       "14                                stellar_teff_k         0.002945   \n",
       "19                           stellar_density_cgs         0.002473   \n",
       "45                          depth_ratio_residual         0.002426   \n",
       "\n",
       "    importance_std  \n",
       "9         0.005713  \n",
       "51        0.004240  \n",
       "24        0.003728  \n",
       "58        0.001515  \n",
       "12        0.001774  \n",
       "29        0.001612  \n",
       "30        0.002551  \n",
       "0         0.001834  \n",
       "23        0.000833  \n",
       "10        0.001524  \n",
       "16        0.001817  \n",
       "49        0.000419  \n",
       "11        0.001155  \n",
       "39        0.001263  \n",
       "31        0.000636  \n",
       "56        0.000824  \n",
       "26        0.001056  \n",
       "14        0.000797  \n",
       "19        0.001006  \n",
       "45        0.001154  "
      ]
     },
     "execution_count": 36,
     "metadata": {},
     "output_type": "execute_result"
    }
   ],
   "source": [
    "# Permutation Importance\n",
    "\n",
    "perm = permutation_importance(hgb, X_test_imp, y_test, n_repeats = 10, random_state = 32, n_jobs = -1)\n",
    "imp_df = pd.DataFrame({\n",
    "    \"feature\": X_test_imp.columns,\n",
    "    \"importance_mean\": perm.importances_mean,\n",
    "    \"importance_std\": perm.importances_std\n",
    "}).sort_values(\"importance_mean\", ascending = False)\n",
    "\n",
    "imp_df.head(20)"
   ]
  },
  {
   "cell_type": "code",
   "execution_count": 37,
   "id": "cf19899a-f986-4226-9fa6-463028e823b0",
   "metadata": {},
   "outputs": [
    {
     "data": {
      "image/png": "[encoded data removed]",
      "text/plain": [
       "<Figure size 600x600 with 1 Axes>"
      ]
     },
     "metadata": {},
     "output_type": "display_data"
    }
   ],
   "source": [
    "# Plot top 15 importances\n",
    "\n",
    "top15 = imp_df.head(15)\n",
    "plt.figure(figsize = (6, 6))\n",
    "sns.barplot(data = top15, y = \"feature\", x = \"importance_mean\", orient = \"h\")\n",
    "plt.title(\"Permutation Importance (Top 15)\")\n",
    "plt.tight_layout()\n",
    "plt.show()"
   ]
  },
  {
   "cell_type": "code",
   "execution_count": 38,
   "id": "aae173b6-ac9e-4f10-818a-178da980c056",
   "metadata": {},
   "outputs": [
    {
     "data": {
      "text/html": [
       "<div>\n",
       "<style scoped>\n",
       "    .dataframe tbody tr th:only-of-type {\n",
       "        vertical-align: middle;\n",
       "    }\n",
       "\n",
       "    .dataframe tbody tr th {\n",
       "        vertical-align: top;\n",
       "    }\n",
       "\n",
       "    .dataframe thead th {\n",
       "        text-align: right;\n",
       "    }\n",
       "</style>\n",
       "<table border=\"1\" class=\"dataframe\">\n",
       "  <thead>\n",
       "    <tr style=\"text-align: right;\">\n",
       "      <th></th>\n",
       "      <th>feature</th>\n",
       "      <th>pb_corr</th>\n",
       "      <th>p_value</th>\n",
       "    </tr>\n",
       "  </thead>\n",
       "  <tbody>\n",
       "    <tr>\n",
       "      <th>42</th>\n",
       "      <td>log_orbital_period</td>\n",
       "      <td>0.203143</td>\n",
       "      <td>1.314912e-157</td>\n",
       "    </tr>\n",
       "    <tr>\n",
       "      <th>27</th>\n",
       "      <td>parallax_mas</td>\n",
       "      <td>0.174879</td>\n",
       "      <td>1.098303e-116</td>\n",
       "    </tr>\n",
       "    <tr>\n",
       "      <th>16</th>\n",
       "      <td>stellar_metallicity_dex</td>\n",
       "      <td>0.166509</td>\n",
       "      <td>8.162600e-106</td>\n",
       "    </tr>\n",
       "    <tr>\n",
       "      <th>3</th>\n",
       "      <td>inclination_deg</td>\n",
       "      <td>0.155423</td>\n",
       "      <td>2.807940e-92</td>\n",
       "    </tr>\n",
       "    <tr>\n",
       "      <th>15</th>\n",
       "      <td>stellar_logg_cgs</td>\n",
       "      <td>0.148337</td>\n",
       "      <td>3.907623e-84</td>\n",
       "    </tr>\n",
       "    <tr>\n",
       "      <th>23</th>\n",
       "      <td>ra_deg</td>\n",
       "      <td>0.118697</td>\n",
       "      <td>2.525989e-54</td>\n",
       "    </tr>\n",
       "    <tr>\n",
       "      <th>24</th>\n",
       "      <td>dec_deg</td>\n",
       "      <td>0.112723</td>\n",
       "      <td>3.896685e-49</td>\n",
       "    </tr>\n",
       "    <tr>\n",
       "      <th>2</th>\n",
       "      <td>eccentricity</td>\n",
       "      <td>0.112027</td>\n",
       "      <td>1.503241e-48</td>\n",
       "    </tr>\n",
       "    <tr>\n",
       "      <th>5</th>\n",
       "      <td>planet_radius_rj</td>\n",
       "      <td>0.066757</td>\n",
       "      <td>3.100164e-18</td>\n",
       "    </tr>\n",
       "    <tr>\n",
       "      <th>25</th>\n",
       "      <td>pm_ra_masyr</td>\n",
       "      <td>0.064159</td>\n",
       "      <td>5.852991e-17</td>\n",
       "    </tr>\n",
       "    <tr>\n",
       "      <th>28</th>\n",
       "      <td>distance_pc</td>\n",
       "      <td>0.062035</td>\n",
       "      <td>5.940862e-16</td>\n",
       "    </tr>\n",
       "    <tr>\n",
       "      <th>7</th>\n",
       "      <td>planet_mass_mj</td>\n",
       "      <td>0.057470</td>\n",
       "      <td>6.672896e-14</td>\n",
       "    </tr>\n",
       "    <tr>\n",
       "      <th>6</th>\n",
       "      <td>planet_mass_me</td>\n",
       "      <td>0.057469</td>\n",
       "      <td>6.678766e-14</td>\n",
       "    </tr>\n",
       "    <tr>\n",
       "      <th>35</th>\n",
       "      <td>semi_major_axis_au_est</td>\n",
       "      <td>0.048902</td>\n",
       "      <td>1.824119e-10</td>\n",
       "    </tr>\n",
       "    <tr>\n",
       "      <th>1</th>\n",
       "      <td>semi_major_axis_au</td>\n",
       "      <td>0.044257</td>\n",
       "      <td>7.962752e-09</td>\n",
       "    </tr>\n",
       "  </tbody>\n",
       "</table>\n",
       "</div>"
      ],
      "text/plain": [
       "                    feature   pb_corr        p_value\n",
       "42       log_orbital_period  0.203143  1.314912e-157\n",
       "27             parallax_mas  0.174879  1.098303e-116\n",
       "16  stellar_metallicity_dex  0.166509  8.162600e-106\n",
       "3           inclination_deg  0.155423   2.807940e-92\n",
       "15         stellar_logg_cgs  0.148337   3.907623e-84\n",
       "23                   ra_deg  0.118697   2.525989e-54\n",
       "24                  dec_deg  0.112723   3.896685e-49\n",
       "2              eccentricity  0.112027   1.503241e-48\n",
       "5          planet_radius_rj  0.066757   3.100164e-18\n",
       "25              pm_ra_masyr  0.064159   5.852991e-17\n",
       "28              distance_pc  0.062035   5.940862e-16\n",
       "7            planet_mass_mj  0.057470   6.672896e-14\n",
       "6            planet_mass_me  0.057469   6.678766e-14\n",
       "35   semi_major_axis_au_est  0.048902   1.824119e-10\n",
       "1        semi_major_axis_au  0.044257   7.962752e-09"
      ]
     },
     "execution_count": 38,
     "metadata": {},
     "output_type": "execute_result"
    }
   ],
   "source": [
    "# Correlation with target (point-biserial approximation for numeric)\n",
    "from scipy.stats import pointbiserialr\n",
    "\n",
    "corr_rows = []\n",
    "\n",
    "for c in X_train_imp.columns:\n",
    "    s = X_train_imp[c]\n",
    "    if s.nunique() > 2:\n",
    "        try:\n",
    "            r, p = pointbiserialr(s, y_train)\n",
    "            corr_rows.append({\n",
    "                \"feature\": c,\n",
    "                \"pb_corr\": r,\n",
    "                \"p_value\": p\n",
    "            })\n",
    "        except Exception:\n",
    "            pass\n",
    "\n",
    "corr_df = pd.DataFrame(corr_rows).sort_values(\"pb_corr\", ascending = False)\n",
    "corr_df.head(15)"
   ]
  },
  {
   "cell_type": "code",
   "execution_count": 40,
   "id": "9186c993-241e-4aac-9d86-2d775a98e12b",
   "metadata": {},
   "outputs": [
    {
     "data": {
      "text/plain": [
       "(           prob  y_true  y_pred\n",
       " 18873  0.993360       0       1\n",
       " 177    0.990851       0       1\n",
       " 18306  0.985951       0       1\n",
       " 785    0.979972       0       1\n",
       " 20908  0.976065       0       1\n",
       " 859    0.974409       0       1\n",
       " 18466  0.972480       0       1\n",
       " 18869  0.970288       0       1\n",
       " 3287   0.968963       0       1\n",
       " 2189   0.966708       0       1,\n",
       "           prob  y_true  y_pred\n",
       " 123   0.010296       1       0\n",
       " 8805  0.011585       1       0\n",
       " 172   0.014153       1       0\n",
       " 456   0.015544       1       0\n",
       " 7949  0.023011       1       0\n",
       " 6991  0.050141       1       0\n",
       " 327   0.056762       1       0\n",
       " 519   0.056843       1       0\n",
       " 5155  0.057153       1       0\n",
       " 3368  0.057339       1       0)"
      ]
     },
     "execution_count": 40,
     "metadata": {},
     "output_type": "execute_result"
    }
   ],
   "source": [
    "# Error analysis: false positives / false negatives\n",
    "\n",
    "errors = pd.DataFrame({\n",
    "    \"prob\": prob_test,\n",
    "    \"y_true\": y_test,\n",
    "    \"y_pred\": y_pred_opt\n",
    "}, index = X_test_imp.index)\n",
    "\n",
    "fps = errors[(errors.y_true == 0) & (errors.y_pred == 1)].sort_values(\"prob\", ascending = False).head(10)\n",
    "fns = errors[(errors.y_true == 1) & (errors.y_pred == 0)].sort_values(\"prob\", ascending = True).head(10)\n",
    "\n",
    "fps, fns"
   ]
  },
  {
   "cell_type": "code",
   "execution_count": 41,
   "id": "883738f6-38d3-4ee9-b317-9d72c631372f",
   "metadata": {},
   "outputs": [
    {
     "data": {
      "image/png": "[encoded data removed]",
      "text/plain": [
       "<Figure size 600x400 with 1 Axes>"
      ]
     },
     "metadata": {},
     "output_type": "display_data"
    }
   ],
   "source": [
    "# Feature distributions for FP vs TP (example: planet_radius_re)\n",
    "\n",
    "feat_focus = 'planet_radius_re'\n",
    "\n",
    "if feat_focus in X_test_imp.columns:\n",
    "    tmp = X_test_imp[[feat_focus]].copy()\n",
    "    tmp[\"y_true\"] = y_test\n",
    "    tmp[\"prob\"] = prob_test\n",
    "    tmp[\"pred\"] = y_pred_opt\n",
    "    tmp[\"error_type\"] = np.select(\n",
    "        [\n",
    "            (tmp.y_true == 1) & (tmp.pred == 1),\n",
    "            (tmp.y_true == 0) & (tmp.pred == 1),\n",
    "            (tmp.y_true == 1) & (tmp.pred == 0)\n",
    "        ],\n",
    "        [\"TP\", \"FP\", \"FN\"],\n",
    "        default = \"OTHER\"\n",
    "    )\n",
    "\n",
    "    plt.figure(figsize = (6, 4))\n",
    "    sns.kdeplot(data = tmp, x = feat_focus, hue = \"error_type\", common_norm = False)\n",
    "    plt.title(f\"Distribution by error type: {feat_focus}\")\n",
    "    plt.show()"
   ]
  },
  {
   "cell_type": "code",
   "execution_count": 49,
   "id": "9a7a3620-fa70-41d9-b5ed-b5936509cca6",
   "metadata": {},
   "outputs": [
    {
     "data": {
      "text/html": [
       "<div>\n",
       "<style scoped>\n",
       "    .dataframe tbody tr th:only-of-type {\n",
       "        vertical-align: middle;\n",
       "    }\n",
       "\n",
       "    .dataframe tbody tr th {\n",
       "        vertical-align: top;\n",
       "    }\n",
       "\n",
       "    .dataframe thead th {\n",
       "        text-align: right;\n",
       "    }\n",
       "</style>\n",
       "<table border=\"1\" class=\"dataframe\">\n",
       "  <thead>\n",
       "    <tr style=\"text-align: right;\">\n",
       "      <th></th>\n",
       "      <th>fold</th>\n",
       "      <th>roc_auc</th>\n",
       "      <th>pr_auc</th>\n",
       "    </tr>\n",
       "  </thead>\n",
       "  <tbody>\n",
       "    <tr>\n",
       "      <th>6</th>\n",
       "      <td>7</td>\n",
       "      <td>0.982908</td>\n",
       "      <td>0.972505</td>\n",
       "    </tr>\n",
       "    <tr>\n",
       "      <th>9</th>\n",
       "      <td>10</td>\n",
       "      <td>0.982758</td>\n",
       "      <td>0.973305</td>\n",
       "    </tr>\n",
       "    <tr>\n",
       "      <th>0</th>\n",
       "      <td>1</td>\n",
       "      <td>0.982166</td>\n",
       "      <td>0.972310</td>\n",
       "    </tr>\n",
       "    <tr>\n",
       "      <th>7</th>\n",
       "      <td>8</td>\n",
       "      <td>0.981633</td>\n",
       "      <td>0.971938</td>\n",
       "    </tr>\n",
       "    <tr>\n",
       "      <th>4</th>\n",
       "      <td>5</td>\n",
       "      <td>0.980720</td>\n",
       "      <td>0.967599</td>\n",
       "    </tr>\n",
       "    <tr>\n",
       "      <th>2</th>\n",
       "      <td>3</td>\n",
       "      <td>0.980463</td>\n",
       "      <td>0.969274</td>\n",
       "    </tr>\n",
       "    <tr>\n",
       "      <th>3</th>\n",
       "      <td>4</td>\n",
       "      <td>0.979951</td>\n",
       "      <td>0.969460</td>\n",
       "    </tr>\n",
       "    <tr>\n",
       "      <th>8</th>\n",
       "      <td>9</td>\n",
       "      <td>0.977844</td>\n",
       "      <td>0.965077</td>\n",
       "    </tr>\n",
       "    <tr>\n",
       "      <th>1</th>\n",
       "      <td>2</td>\n",
       "      <td>0.976792</td>\n",
       "      <td>0.963177</td>\n",
       "    </tr>\n",
       "    <tr>\n",
       "      <th>5</th>\n",
       "      <td>6</td>\n",
       "      <td>0.976196</td>\n",
       "      <td>0.964730</td>\n",
       "    </tr>\n",
       "  </tbody>\n",
       "</table>\n",
       "</div>"
      ],
      "text/plain": [
       "   fold   roc_auc    pr_auc\n",
       "6     7  0.982908  0.972505\n",
       "9    10  0.982758  0.973305\n",
       "0     1  0.982166  0.972310\n",
       "7     8  0.981633  0.971938\n",
       "4     5  0.980720  0.967599\n",
       "2     3  0.980463  0.969274\n",
       "3     4  0.979951  0.969460\n",
       "8     9  0.977844  0.965077\n",
       "1     2  0.976792  0.963177\n",
       "5     6  0.976196  0.964730"
      ]
     },
     "execution_count": 49,
     "metadata": {},
     "output_type": "execute_result"
    }
   ],
   "source": [
    "# Cross-validation\n",
    "\n",
    "skf = StratifiedKFold(n_splits = 10, shuffle = True, random_state = 32)\n",
    "cv_scores = []\n",
    "\n",
    "for fold, (tr, va) in enumerate(skf.split(X_train_imp, y_train), 1):\n",
    "    model = HistGradientBoostingClassifier(random_state = fold)\n",
    "    model.fit(X_train_imp.iloc[tr], y_train.iloc[tr])\n",
    "    p = model.predict_proba(X_train_imp.iloc[va])[:, 1]\n",
    "\n",
    "    cv_scores.append({\n",
    "        \"fold\": fold,\n",
    "        \"roc_auc\": roc_auc_score(y_train.iloc[va], p),\n",
    "        \"pr_auc\": average_precision_score(y_train.iloc[va], p)\n",
    "    })\n",
    "\n",
    "pd.DataFrame(cv_scores).sort_values('roc_auc', ascending = False)"
   ]
  },
  {
   "cell_type": "code",
   "execution_count": 50,
   "id": "7991c0e4-159d-4e52-8817-e337567a75ef",
   "metadata": {},
   "outputs": [
    {
     "data": {
      "text/plain": [
       "{'roc_auc': 0.982758748723661,\n",
       " 'pr_auc': 0.9730942100575947,\n",
       " 'brier': 0.051375627279854785}"
      ]
     },
     "execution_count": 50,
     "metadata": {},
     "output_type": "execute_result"
    }
   ],
   "source": [
    "# Random Forest secondary + simple ensemble\n",
    "\n",
    "rf = RandomForestClassifier(n_estimators = 600, random_state = 32, n_jobs = -1)\n",
    "rf.fit(X_train_imp, y_train)\n",
    "prob_test_rf = rf.predict_proba(X_test_imp)[:, 1]\n",
    "prob_ens = (prob_test + prob_test_rf) / 2\n",
    "\n",
    "metrics_ens = {\n",
    "    \"roc_auc\": roc_auc_score(y_test, prob_ens),\n",
    "    \"pr_auc\": average_precision_score(y_test, prob_ens),\n",
    "    \"brier\": brier_score_loss(y_test, prob_ens)\n",
    "}\n",
    "\n",
    "metrics_ens"
   ]
  },
  {
   "cell_type": "code",
   "execution_count": 52,
   "id": "2d67ae10-8f80-4014-94a2-badf6f2509c8",
   "metadata": {},
   "outputs": [
    {
     "data": {
      "text/plain": [
       "({'strategy': 'max_f1',\n",
       "  'threshold': np.float64(1.0),\n",
       "  'precision': 1.0,\n",
       "  'recall': 0.0,\n",
       "  'f1': 2.0},\n",
       " {'threshold': np.float64(0.3633241996221124),\n",
       "  'precision': 0.850131926121372,\n",
       "  'recall': 0.9589285714285715,\n",
       "  'f1': 0.9461485509522665,\n",
       "  'strategy': 'max_recall_precision>=0.85'})"
      ]
     },
     "execution_count": 52,
     "metadata": {},
     "output_type": "execute_result"
    }
   ],
   "source": [
    "# Threshold search on ensemble\n",
    "\n",
    "prec_e, rec_e, thr_e = precision_recall_curve(y_test, prob_ens)\n",
    "best_f1_e, best_recall_e, feasible_e = optimize_threshold(prec_e, rec_e, thr_e, min_precision = 0.85)\n",
    "best_f1_e, best_recall_e"
   ]
  },
  {
   "cell_type": "code",
   "execution_count": 54,
   "id": "7c0a93ac-2054-4d37-a9aa-b238fd439340",
   "metadata": {},
   "outputs": [
    {
     "data": {
      "text/plain": [
       "{'baseline_roc_auc': 0.9811148240972802,\n",
       " 'ensemble_roc_auc': 0.982758748723661,\n",
       " 'baseline_pr_auc': 0.9702696466012951,\n",
       " 'ensemble_pr_auc': 0.9730942100575947}"
      ]
     },
     "execution_count": 54,
     "metadata": {},
     "output_type": "execute_result"
    }
   ],
   "source": [
    "# Compare baseline vs ensemble metrics\n",
    "\n",
    "comparison = {\n",
    "    \"baseline_roc_auc\": metrics_baseline[\"roc_auc\"],\n",
    "    \"ensemble_roc_auc\": metrics_ens[\"roc_auc\"],\n",
    "    \"baseline_pr_auc\": metrics_baseline[\"pr_auc\"],\n",
    "    \"ensemble_pr_auc\": metrics_ens[\"pr_auc\"]\n",
    "}\n",
    "\n",
    "comparison"
   ]
  },
  {
   "cell_type": "code",
   "execution_count": 60,
   "id": "5c5721e7-9769-4084-be91-4eb11f081634",
   "metadata": {},
   "outputs": [],
   "source": [
    "ARTIFACT_DIR = './models'\n",
    "\n",
    "joblib.dump(hgb, f\"{ARTIFACT_DIR}/hgb_baseline.pkl\")\n",
    "joblib.dump(rf,  f\"{ARTIFACT_DIR}/rf_model.pkl\")\n",
    "joblib.dump(imp, f\"{ARTIFACT_DIR}/imputer.pkl\")\n",
    "\n",
    "artifact = {\n",
    "    \"baseline_metrics\": metrics_baseline,\n",
    "    \"ensemble_metrics\": metrics_ens,\n",
    "    \"best_threshold_baseline\": chosen,\n",
    "    \"best_threshold_ensemble\": best_recall_e if best_recall_e else best_f1_e,\n",
    "    \"feature_count\": len(X.columns),\n",
    "    \"top_importances\": imp_df.head(25).to_dict(orient = \"records\")\n",
    "}\n",
    "\n",
    "with open(\"./models/artifact.json\", \"w\", encoding=\"utf-8\") as f:\n",
    "    json.dump(artifact, f, indent=2, ensure_ascii=False)"
   ]
  },
  {
   "cell_type": "code",
   "execution_count": 61,
   "id": "2a2e1b7e-0056-4fa7-9b26-5b6c33c95cfb",
   "metadata": {},
   "outputs": [
    {
     "name": "stdout",
     "output_type": "stream",
     "text": [
      "\n",
      "                MODEL CARD\n",
      "-------------------------------------------\n",
      "Model Types: HistGradientBoosting (baseline), Ensemble(HGB + RF)\n",
      "Data Source: Unified Exoplanet Catalog (Kepler / TESS / K2) derived + imputed\n",
      "Positive Definition: disposition in {'CANDIDATE', 'CONFIRMED'}\n",
      "Baseline ROC-AUC:0.981\n",
      "Ensemble ROC-AUC: 0.983\n",
      "Baseline PR-AUC: 0.970\n",
      "Ensemble PR-AUC: 0.973\n",
      "Optiomal Threshold (baseline): 0.3505\n",
      "Feature Count: 65\n",
      "Notes: Calibration not explicitly applied; consider isotonic fitting for production :)\n",
      "\n"
     ]
    }
   ],
   "source": [
    "model_card = f\"\"\"\n",
    "                MODEL CARD\n",
    "-------------------------------------------\n",
    "Model Types: HistGradientBoosting (baseline), Ensemble(HGB + RF)\n",
    "Data Source: Unified Exoplanet Catalog (Kepler / TESS / K2) derived + imputed\n",
    "Positive Definition: disposition in {POSITIVE_SET}\n",
    "Baseline ROC-AUC:{metrics_baseline['roc_auc']:.3f}\n",
    "Ensemble ROC-AUC: {metrics_ens['roc_auc']:.3f}\n",
    "Baseline PR-AUC: {metrics_baseline['pr_auc']:.3f}\n",
    "Ensemble PR-AUC: {metrics_ens['pr_auc']:.3f}\n",
    "Optiomal Threshold (baseline): {chosen['threshold']:.4f}\n",
    "Feature Count: {len(X.columns)}\n",
    "Notes: Calibration not explicitly applied; consider isotonic fitting for production :)\n",
    "\"\"\"\n",
    "\n",
    "print(model_card)"
   ]
  }
 ],
 "metadata": {
  "kernelspec": {
   "display_name": "Python 3 (ipykernel)",
   "language": "python",
   "name": "python3"
  },
  "language_info": {
   "codemirror_mode": {
    "name": "ipython",
    "version": 3
   },
   "file_extension": ".py",
   "mimetype": "text/x-python",
   "name": "python",
   "nbconvert_exporter": "python",
   "pygments_lexer": "ipython3",
   "version": "3.13.7"
  }
 },
 "nbformat": 4,
 "nbformat_minor": 5
}
